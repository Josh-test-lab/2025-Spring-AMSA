{
 "cells": [
  {
   "cell_type": "code",
   "execution_count": 1,
   "id": "43ff65e5",
   "metadata": {},
   "outputs": [],
   "source": [
    "# import modules\n",
    "import os\n",
    "import numpy as np\n",
    "import pandas as pd\n",
    "import matplotlib.pyplot as plt\n",
    "import plotly.express as px\n",
    "import seaborn as sns"
   ]
  },
  {
   "cell_type": "code",
   "execution_count": 2,
   "id": "36a183e2",
   "metadata": {},
   "outputs": [],
   "source": [
    "# functions"
   ]
  },
  {
   "cell_type": "code",
   "execution_count": 3,
   "id": "f07d6adc",
   "metadata": {},
   "outputs": [
    {
     "name": "stdout",
     "output_type": "stream",
     "text": [
      "Data:\n",
      "       Patient_ID  Age  Gender Country_Region  Year  Genetic_Risk  \\\n",
      "0      PT0000000   71    Male             UK  2021           6.4   \n",
      "1      PT0000001   34    Male          China  2021           1.3   \n",
      "2      PT0000002   80    Male       Pakistan  2023           7.4   \n",
      "3      PT0000003   40    Male             UK  2015           1.7   \n",
      "4      PT0000004   43  Female         Brazil  2017           5.1   \n",
      "...          ...  ...     ...            ...   ...           ...   \n",
      "49995  PT0049995   80    Male       Pakistan  2023           2.3   \n",
      "49996  PT0049996   40  Female            USA  2018           6.4   \n",
      "49997  PT0049997   74    Male       Pakistan  2015           6.2   \n",
      "49998  PT0049998   21    Male         Brazil  2018           4.0   \n",
      "49999  PT0049999   22    Male       Pakistan  2023           5.1   \n",
      "\n",
      "       Air_Pollution  Alcohol_Use  Smoking  Obesity_Level Cancer_Type  \\\n",
      "0                2.8          9.5      0.9            8.7        Lung   \n",
      "1                4.5          3.7      3.9            6.3    Leukemia   \n",
      "2                7.9          2.4      4.7            0.1      Breast   \n",
      "3                2.9          4.8      3.5            2.7       Colon   \n",
      "4                2.8          2.3      6.7            0.5        Skin   \n",
      "...              ...          ...      ...            ...         ...   \n",
      "49995            7.5          2.8      3.8            2.9    Leukemia   \n",
      "49996            3.5          2.9      9.0            9.8       Colon   \n",
      "49997            1.6          8.7      4.7            4.0      Breast   \n",
      "49998            6.5          7.6      8.6            8.1       Liver   \n",
      "49999            9.8          3.2      0.0            0.7       Liver   \n",
      "\n",
      "      Cancer_Stage  Treatment_Cost_USD  Survival_Years  Target_Severity_Score  \n",
      "0        Stage III            62913.44             5.9                   4.92  \n",
      "1          Stage 0            12573.41             4.7                   4.65  \n",
      "2         Stage II             6984.33             7.1                   5.84  \n",
      "3          Stage I            67446.25             1.6                   3.12  \n",
      "4        Stage III            77977.12             2.9                   3.62  \n",
      "...            ...                 ...             ...                    ...  \n",
      "49995      Stage 0            71463.70             1.0                   3.63  \n",
      "49996      Stage I            49619.66             0.4                   6.03  \n",
      "49997      Stage 0             5338.25             2.7                   6.02  \n",
      "49998     Stage IV            45100.47             7.5                   6.54  \n",
      "49999      Stage 0            64023.82             7.4                   3.76  \n",
      "\n",
      "[50000 rows x 15 columns]\n"
     ]
    }
   ],
   "source": [
    "# load data\n",
    "data = pd.read_csv('global_cancer_patients_2015_2024.csv')\n",
    "print(f'Data:\\n {data}')"
   ]
  },
  {
   "cell_type": "code",
   "execution_count": 4,
   "id": "7c15f7e5",
   "metadata": {},
   "outputs": [
    {
     "name": "stdout",
     "output_type": "stream",
     "text": [
      "Data shape: (50000, 15)\n",
      "Data summary:\n",
      "                 Age          Year  Genetic_Risk  Air_Pollution   Alcohol_Use  \\\n",
      "count  50000.000000  50000.000000  50000.000000   50000.000000  50000.000000   \n",
      "mean      54.421540   2019.480520      5.001698       5.010126      5.010880   \n",
      "std       20.224451      2.871485      2.885773       2.888399      2.888769   \n",
      "min       20.000000   2015.000000      0.000000       0.000000      0.000000   \n",
      "25%       37.000000   2017.000000      2.500000       2.500000      2.500000   \n",
      "50%       54.000000   2019.000000      5.000000       5.000000      5.000000   \n",
      "75%       72.000000   2022.000000      7.500000       7.500000      7.500000   \n",
      "max       89.000000   2024.000000     10.000000      10.000000     10.000000   \n",
      "\n",
      "            Smoking  Obesity_Level  Treatment_Cost_USD  Survival_Years  \\\n",
      "count  50000.000000   50000.000000        50000.000000    50000.000000   \n",
      "mean       4.989826       4.991176        52467.298239        5.006462   \n",
      "std        2.881579       2.894504        27363.229379        2.883335   \n",
      "min        0.000000       0.000000         5000.050000        0.000000   \n",
      "25%        2.500000       2.500000        28686.225000        2.500000   \n",
      "50%        5.000000       5.000000        52474.310000        5.000000   \n",
      "75%        7.500000       7.500000        76232.720000        7.500000   \n",
      "max       10.000000      10.000000        99999.840000       10.000000   \n",
      "\n",
      "       Target_Severity_Score  \n",
      "count           50000.000000  \n",
      "mean                4.951207  \n",
      "std                 1.199677  \n",
      "min                 0.900000  \n",
      "25%                 4.120000  \n",
      "50%                 4.950000  \n",
      "75%                 5.780000  \n",
      "max                 9.160000  \n",
      "Factors:\n",
      "Gender Country_Region  Year Cancer_Type Cancer_Stage\n",
      "  Male             UK  2021        Lung    Stage III\n",
      "Female          China  2023    Leukemia      Stage 0\n",
      " Other       Pakistan  2015      Breast     Stage II\n",
      "               Brazil  2017       Colon      Stage I\n",
      "              Germany  2018        Skin     Stage IV\n",
      "               Canada  2022    Cervical             \n",
      "                  USA  2016    Prostate             \n",
      "                India  2024       Liver             \n",
      "            Australia  2020                         \n",
      "               Russia  2019                         \n",
      "NAs:\n",
      " Patient_ID               0\n",
      "Age                      0\n",
      "Gender                   0\n",
      "Country_Region           0\n",
      "Year                     0\n",
      "Genetic_Risk             0\n",
      "Air_Pollution            0\n",
      "Alcohol_Use              0\n",
      "Smoking                  0\n",
      "Obesity_Level            0\n",
      "Cancer_Type              0\n",
      "Cancer_Stage             0\n",
      "Treatment_Cost_USD       0\n",
      "Survival_Years           0\n",
      "Target_Severity_Score    0\n",
      "dtype: int64\n",
      "Duplicates:\n",
      " 0\n"
     ]
    }
   ],
   "source": [
    "# data summary\n",
    "print(f'Data shape: {data.shape}')\n",
    "print(f'Data summary:\\n {data.describe()}')\n",
    "\n",
    "factors = {\n",
    "    'Gender': pd.unique(data['Gender']),\n",
    "    'Country_Region': pd.unique(data['Country_Region']),\n",
    "    'Year': pd.unique(data['Year']),\n",
    "    'Cancer_Type': pd.unique(data['Cancer_Type']),\n",
    "    'Cancer_Stage': pd.unique(data['Cancer_Stage'])\n",
    "}\n",
    "print(f\"Factors:\\n{pd.DataFrame(dict([(k, pd.Series(v)) for k, v in factors.items()])).fillna('').to_string(index=False)}\")\n",
    "\n",
    "print(f'NAs:\\n {data.isna().sum()}')\n",
    "print(f'Duplicates:\\n {data.duplicated().sum()}')"
   ]
  },
  {
   "cell_type": "code",
   "execution_count": 5,
   "id": "4e43d88a",
   "metadata": {},
   "outputs": [
    {
     "name": "stdout",
     "output_type": "stream",
     "text": [
      "DataFrame sorted:\n",
      "        Age  Genetic_Risk  Air_Pollution  Alcohol_Use  Smoking  Obesity_Level  \\\n",
      "0       71           6.4            2.8          9.5      0.9            8.7   \n",
      "1       34           1.3            4.5          3.7      3.9            6.3   \n",
      "2       80           7.4            7.9          2.4      4.7            0.1   \n",
      "3       40           1.7            2.9          4.8      3.5            2.7   \n",
      "4       43           5.1            2.8          2.3      6.7            0.5   \n",
      "...    ...           ...            ...          ...      ...            ...   \n",
      "49995   80           2.3            7.5          2.8      3.8            2.9   \n",
      "49996   40           6.4            3.5          2.9      9.0            9.8   \n",
      "49997   74           6.2            1.6          8.7      4.7            4.0   \n",
      "49998   21           4.0            6.5          7.6      8.6            8.1   \n",
      "49999   22           5.1            9.8          3.2      0.0            0.7   \n",
      "\n",
      "       Treatment_Cost_USD  Survival_Years  Target_Severity_Score  Gender  \\\n",
      "0                62913.44             5.9                   4.92       1   \n",
      "1                12573.41             4.7                   4.65       1   \n",
      "2                 6984.33             7.1                   5.84       1   \n",
      "3                67446.25             1.6                   3.12       1   \n",
      "4                77977.12             2.9                   3.62       0   \n",
      "...                   ...             ...                    ...     ...   \n",
      "49995            71463.70             1.0                   3.63       1   \n",
      "49996            49619.66             0.4                   6.03       0   \n",
      "49997             5338.25             2.7                   6.02       1   \n",
      "49998            45100.47             7.5                   6.54       1   \n",
      "49999            64023.82             7.4                   3.76       1   \n",
      "\n",
      "       Country_Region  Year  Cancer_Type  Cancer_Stage  \n",
      "0                   8     6            5             3  \n",
      "1                   3     6            3             0  \n",
      "2                   6     8            0             2  \n",
      "3                   8     0            2             1  \n",
      "4                   1     2            7             3  \n",
      "...               ...   ...          ...           ...  \n",
      "49995               6     8            3             0  \n",
      "49996               9     3            2             1  \n",
      "49997               6     0            0             0  \n",
      "49998               1     3            4             4  \n",
      "49999               6     8            4             0  \n",
      "\n",
      "[50000 rows x 14 columns]\n"
     ]
    }
   ],
   "source": [
    "# transfer strings to factors\n",
    "data['Gender_factor'] = pd.Categorical(data['Gender']).codes\n",
    "data['Country_Region_factor'] = pd.Categorical(data['Country_Region']).codes\n",
    "data['Year_factor'] = pd.Categorical(data['Year']).codes\n",
    "data['Cancer_Type_factor'] = pd.Categorical(data['Cancer_Type']).codes\n",
    "data['Cancer_Stage_factor'] = pd.Categorical(data['Cancer_Stage']).codes\n",
    "\n",
    "# save to df\n",
    "df = data.copy()\n",
    "df = df.drop(columns=['Patient_ID', 'Gender', 'Country_Region', 'Year', 'Cancer_Type', 'Cancer_Stage'])\n",
    "df = df.rename(columns={\n",
    "    'Gender_factor': 'Gender',\n",
    "    'Country_Region_factor': 'Country_Region',\n",
    "    'Year_factor': 'Year',\n",
    "    'Cancer_Type_factor': 'Cancer_Type',\n",
    "    'Cancer_Stage_factor': 'Cancer_Stage'\n",
    "})\n",
    "\n",
    "# show df\n",
    "print(f'DataFrame sorted:\\n {df}')"
   ]
  },
  {
   "cell_type": "code",
   "execution_count": 6,
   "id": "8919e9b9",
   "metadata": {},
   "outputs": [
    {
     "data": {
      "application/vnd.plotly.v1+json": {
       "config": {
        "plotlyServerURL": "https://plot.ly"
       },
       "data": [
        {
         "coloraxis": "coloraxis",
         "customdata": [
          [
           1,
           0.002229057075096838,
           0.0011013498206172325,
           -0.004129641358171127,
           0.0017342421744231428,
           -0.0027062548749694822,
           0.003591392704425127,
           -0.0001474805625475328,
           -0.0014813327250107124,
           0.005917465643132362,
           0.008048395033632895,
           -0.0025054378078831377,
           -0.0018027596659396967,
           -0.0033093996861541727
          ],
          [
           0.002229057075096838,
           1,
           -0.004491800715097884,
           -0.0025580204354463797,
           -0.003718145966702547,
           0.0035224462303035543,
           -0.0023654235441408827,
           0.0017079568541277562,
           0.47870037190310166,
           0.00007453140041146445,
           0.0009190616822250656,
           0.009942219288299201,
           -0.005099702145265679,
           -0.006453841717459007
          ],
          [
           0.0011013498206172325,
           -0.004491800715097884,
           1,
           0.0035105349984702505,
           0.0035493307363273696,
           0.00650749909243905,
           -0.007566027022936012,
           0.0008930732636496023,
           0.36696280379759544,
           -0.004555598648944879,
           -0.0026432686716565046,
           0.0006487057205968528,
           0.004024632948817667,
           -0.004490476842033294
          ],
          [
           -0.004129641358171127,
           -0.0025580204354463797,
           0.0035105349984702505,
           1,
           -0.002938366903124918,
           0.007424559674560308,
           -0.003607762963360051,
           -0.0005274633033604987,
           0.3632499018128941,
           0.006467438347481549,
           0.004876055600228326,
           0.001933954874614075,
           0.002082897956133716,
           0.000932533751547446
          ],
          [
           0.0017342421744231428,
           -0.003718145966702547,
           0.0035493307363273696,
           -0.002938366903124918,
           1,
           0.005827802955636075,
           -0.009168651824386646,
           0.0013710407930159715,
           0.4844198313788514,
           -0.0009188179044663703,
           0.005443056981771627,
           -0.006208565744140205,
           0.0034625935917262625,
           0.0019681858824426163
          ],
          [
           -0.0027062548749694822,
           0.0035224462303035543,
           0.00650749909243905,
           0.007424559674560308,
           0.005827802955636075,
           1,
           -0.0012510919268197364,
           0.009771093874775061,
           0.25136611327834657,
           -0.0017449248275964455,
           0.0010755182562693,
           -0.0024412244725111176,
           0.009007404237646425,
           0.0064150408748969955
          ],
          [
           0.003591392704425127,
           -0.0023654235441408827,
           -0.007566027022936012,
           -0.003607762963360051,
           -0.009168651824386646,
           -0.0012510919268197364,
           1,
           -0.0004294054283022085,
           -0.46605796256087295,
           0.00980506201063194,
           -0.003682458680053861,
           0.000060561324243547686,
           0.0007118153167893363,
           -0.0026048093496280392
          ],
          [
           -0.0001474805625475328,
           0.0017079568541277562,
           0.0008930732636496023,
           -0.0005274633033604987,
           0.0013710407930159715,
           0.009771093874775061,
           -0.0004294054283022085,
           1,
           0.004161136673792131,
           -0.0071213397384993285,
           0.005121340385071381,
           0.000017982192184512704,
           -0.0017167930096437059,
           -0.003013765016325849
          ],
          [
           -0.0014813327250107124,
           0.47870037190310166,
           0.36696280379759544,
           0.3632499018128941,
           0.4844198313788514,
           0.25136611327834657,
           -0.46605796256087295,
           0.004161136673792131,
           1,
           -0.004612522433307632,
           0.005800090912507811,
           0.0021088168011330023,
           0.003244458215239971,
           -0.0007215931572735624
          ],
          [
           0.005917465643132362,
           0.00007453140041146445,
           -0.004555598648944879,
           0.006467438347481549,
           -0.0009188179044663703,
           -0.0017449248275964455,
           0.00980506201063194,
           -0.0071213397384993285,
           -0.004612522433307632,
           1,
           0.001490145084864215,
           0.0011695235825846563,
           -0.0003526697387308633,
           0.0011006714947139735
          ],
          [
           0.008048395033632895,
           0.0009190616822250656,
           -0.0026432686716565046,
           0.004876055600228326,
           0.005443056981771627,
           0.0010755182562693,
           -0.003682458680053861,
           0.005121340385071381,
           0.005800090912507811,
           0.001490145084864215,
           1,
           0.0026391936452085096,
           -0.0005588399483348256,
           0.0009233340413146304
          ],
          [
           -0.0025054378078831377,
           0.009942219288299201,
           0.0006487057205968528,
           0.001933954874614075,
           -0.006208565744140205,
           -0.0024412244725111176,
           0.000060561324243547686,
           0.000017982192184512704,
           0.0021088168011330023,
           0.0011695235825846563,
           0.0026391936452085096,
           1,
           -0.00040927180674258415,
           -0.011968101590966968
          ],
          [
           -0.0018027596659396967,
           -0.005099702145265679,
           0.004024632948817667,
           0.002082897956133716,
           0.0034625935917262625,
           0.009007404237646425,
           0.0007118153167893363,
           -0.0017167930096437059,
           0.003244458215239971,
           -0.0003526697387308633,
           -0.0005588399483348256,
           -0.00040927180674258415,
           1,
           -0.001668225015148654
          ],
          [
           -0.0033093996861541727,
           -0.006453841717459007,
           -0.004490476842033294,
           0.000932533751547446,
           0.0019681858824426163,
           0.0064150408748969955,
           -0.0026048093496280392,
           -0.003013765016325849,
           -0.0007215931572735624,
           0.0011006714947139735,
           0.0009233340413146304,
           -0.011968101590966968,
           -0.001668225015148654,
           1
          ]
         ],
         "hovertemplate": "Variables: %{x}<br>Variables: %{y}<br>Correlation: %{customdata}",
         "name": "0",
         "texttemplate": "%{z}",
         "type": "heatmap",
         "x": [
          "Age",
          "Genetic_Risk",
          "Air_Pollution",
          "Alcohol_Use",
          "Smoking",
          "Obesity_Level",
          "Treatment_Cost_USD",
          "Survival_Years",
          "Target_Severity_Score",
          "Gender",
          "Country_Region",
          "Year",
          "Cancer_Type",
          "Cancer_Stage"
         ],
         "xaxis": "x",
         "y": [
          "Age",
          "Genetic_Risk",
          "Air_Pollution",
          "Alcohol_Use",
          "Smoking",
          "Obesity_Level",
          "Treatment_Cost_USD",
          "Survival_Years",
          "Target_Severity_Score",
          "Gender",
          "Country_Region",
          "Year",
          "Cancer_Type",
          "Cancer_Stage"
         ],
         "yaxis": "y",
         "z": [
          [
           1,
           0,
           0,
           0,
           0,
           0,
           0,
           0,
           0,
           0,
           0,
           0,
           0,
           0
          ],
          [
           0,
           1,
           0,
           0,
           0,
           0,
           0,
           0,
           0.5,
           0,
           0,
           0,
           0,
           0
          ],
          [
           0,
           0,
           1,
           0,
           0,
           0,
           0,
           0,
           0.4,
           0,
           0,
           0,
           0,
           0
          ],
          [
           0,
           0,
           0,
           1,
           0,
           0,
           0,
           0,
           0.4,
           0,
           0,
           0,
           0,
           0
          ],
          [
           0,
           0,
           0,
           0,
           1,
           0,
           0,
           0,
           0.5,
           0,
           0,
           0,
           0,
           0
          ],
          [
           0,
           0,
           0,
           0,
           0,
           1,
           0,
           0,
           0.3,
           0,
           0,
           0,
           0,
           0
          ],
          [
           0,
           0,
           0,
           0,
           0,
           0,
           1,
           0,
           -0.5,
           0,
           0,
           0,
           0,
           0
          ],
          [
           0,
           0,
           0,
           0,
           0,
           0,
           0,
           1,
           0,
           0,
           0,
           0,
           0,
           0
          ],
          [
           0,
           0.5,
           0.4,
           0.4,
           0.5,
           0.3,
           -0.5,
           0,
           1,
           0,
           0,
           0,
           0,
           0
          ],
          [
           0,
           0,
           0,
           0,
           0,
           0,
           0,
           0,
           0,
           1,
           0,
           0,
           0,
           0
          ],
          [
           0,
           0,
           0,
           0,
           0,
           0,
           0,
           0,
           0,
           0,
           1,
           0,
           0,
           0
          ],
          [
           0,
           0,
           0,
           0,
           0,
           0,
           0,
           0,
           0,
           0,
           0,
           1,
           0,
           0
          ],
          [
           0,
           0,
           0,
           0,
           0,
           0,
           0,
           0,
           0,
           0,
           0,
           0,
           1,
           0
          ],
          [
           0,
           0,
           0,
           0,
           0,
           0,
           0,
           0,
           0,
           0,
           0,
           0,
           0,
           1
          ]
         ]
        }
       ],
       "layout": {
        "coloraxis": {
         "colorscale": [
          [
           0,
           "rgb(5,48,97)"
          ],
          [
           0.1,
           "rgb(33,102,172)"
          ],
          [
           0.2,
           "rgb(67,147,195)"
          ],
          [
           0.3,
           "rgb(146,197,222)"
          ],
          [
           0.4,
           "rgb(209,229,240)"
          ],
          [
           0.5,
           "rgb(247,247,247)"
          ],
          [
           0.6,
           "rgb(253,219,199)"
          ],
          [
           0.7,
           "rgb(244,165,130)"
          ],
          [
           0.8,
           "rgb(214,96,77)"
          ],
          [
           0.9,
           "rgb(178,24,43)"
          ],
          [
           1,
           "rgb(103,0,31)"
          ]
         ]
        },
        "height": 800,
        "template": {
         "data": {
          "bar": [
           {
            "error_x": {
             "color": "#2a3f5f"
            },
            "error_y": {
             "color": "#2a3f5f"
            },
            "marker": {
             "line": {
              "color": "#E5ECF6",
              "width": 0.5
             },
             "pattern": {
              "fillmode": "overlay",
              "size": 10,
              "solidity": 0.2
             }
            },
            "type": "bar"
           }
          ],
          "barpolar": [
           {
            "marker": {
             "line": {
              "color": "#E5ECF6",
              "width": 0.5
             },
             "pattern": {
              "fillmode": "overlay",
              "size": 10,
              "solidity": 0.2
             }
            },
            "type": "barpolar"
           }
          ],
          "carpet": [
           {
            "aaxis": {
             "endlinecolor": "#2a3f5f",
             "gridcolor": "white",
             "linecolor": "white",
             "minorgridcolor": "white",
             "startlinecolor": "#2a3f5f"
            },
            "baxis": {
             "endlinecolor": "#2a3f5f",
             "gridcolor": "white",
             "linecolor": "white",
             "minorgridcolor": "white",
             "startlinecolor": "#2a3f5f"
            },
            "type": "carpet"
           }
          ],
          "choropleth": [
           {
            "colorbar": {
             "outlinewidth": 0,
             "ticks": ""
            },
            "type": "choropleth"
           }
          ],
          "contour": [
           {
            "colorbar": {
             "outlinewidth": 0,
             "ticks": ""
            },
            "colorscale": [
             [
              0,
              "#0d0887"
             ],
             [
              0.1111111111111111,
              "#46039f"
             ],
             [
              0.2222222222222222,
              "#7201a8"
             ],
             [
              0.3333333333333333,
              "#9c179e"
             ],
             [
              0.4444444444444444,
              "#bd3786"
             ],
             [
              0.5555555555555556,
              "#d8576b"
             ],
             [
              0.6666666666666666,
              "#ed7953"
             ],
             [
              0.7777777777777778,
              "#fb9f3a"
             ],
             [
              0.8888888888888888,
              "#fdca26"
             ],
             [
              1,
              "#f0f921"
             ]
            ],
            "type": "contour"
           }
          ],
          "contourcarpet": [
           {
            "colorbar": {
             "outlinewidth": 0,
             "ticks": ""
            },
            "type": "contourcarpet"
           }
          ],
          "heatmap": [
           {
            "colorbar": {
             "outlinewidth": 0,
             "ticks": ""
            },
            "colorscale": [
             [
              0,
              "#0d0887"
             ],
             [
              0.1111111111111111,
              "#46039f"
             ],
             [
              0.2222222222222222,
              "#7201a8"
             ],
             [
              0.3333333333333333,
              "#9c179e"
             ],
             [
              0.4444444444444444,
              "#bd3786"
             ],
             [
              0.5555555555555556,
              "#d8576b"
             ],
             [
              0.6666666666666666,
              "#ed7953"
             ],
             [
              0.7777777777777778,
              "#fb9f3a"
             ],
             [
              0.8888888888888888,
              "#fdca26"
             ],
             [
              1,
              "#f0f921"
             ]
            ],
            "type": "heatmap"
           }
          ],
          "heatmapgl": [
           {
            "colorbar": {
             "outlinewidth": 0,
             "ticks": ""
            },
            "colorscale": [
             [
              0,
              "#0d0887"
             ],
             [
              0.1111111111111111,
              "#46039f"
             ],
             [
              0.2222222222222222,
              "#7201a8"
             ],
             [
              0.3333333333333333,
              "#9c179e"
             ],
             [
              0.4444444444444444,
              "#bd3786"
             ],
             [
              0.5555555555555556,
              "#d8576b"
             ],
             [
              0.6666666666666666,
              "#ed7953"
             ],
             [
              0.7777777777777778,
              "#fb9f3a"
             ],
             [
              0.8888888888888888,
              "#fdca26"
             ],
             [
              1,
              "#f0f921"
             ]
            ],
            "type": "heatmapgl"
           }
          ],
          "histogram": [
           {
            "marker": {
             "pattern": {
              "fillmode": "overlay",
              "size": 10,
              "solidity": 0.2
             }
            },
            "type": "histogram"
           }
          ],
          "histogram2d": [
           {
            "colorbar": {
             "outlinewidth": 0,
             "ticks": ""
            },
            "colorscale": [
             [
              0,
              "#0d0887"
             ],
             [
              0.1111111111111111,
              "#46039f"
             ],
             [
              0.2222222222222222,
              "#7201a8"
             ],
             [
              0.3333333333333333,
              "#9c179e"
             ],
             [
              0.4444444444444444,
              "#bd3786"
             ],
             [
              0.5555555555555556,
              "#d8576b"
             ],
             [
              0.6666666666666666,
              "#ed7953"
             ],
             [
              0.7777777777777778,
              "#fb9f3a"
             ],
             [
              0.8888888888888888,
              "#fdca26"
             ],
             [
              1,
              "#f0f921"
             ]
            ],
            "type": "histogram2d"
           }
          ],
          "histogram2dcontour": [
           {
            "colorbar": {
             "outlinewidth": 0,
             "ticks": ""
            },
            "colorscale": [
             [
              0,
              "#0d0887"
             ],
             [
              0.1111111111111111,
              "#46039f"
             ],
             [
              0.2222222222222222,
              "#7201a8"
             ],
             [
              0.3333333333333333,
              "#9c179e"
             ],
             [
              0.4444444444444444,
              "#bd3786"
             ],
             [
              0.5555555555555556,
              "#d8576b"
             ],
             [
              0.6666666666666666,
              "#ed7953"
             ],
             [
              0.7777777777777778,
              "#fb9f3a"
             ],
             [
              0.8888888888888888,
              "#fdca26"
             ],
             [
              1,
              "#f0f921"
             ]
            ],
            "type": "histogram2dcontour"
           }
          ],
          "mesh3d": [
           {
            "colorbar": {
             "outlinewidth": 0,
             "ticks": ""
            },
            "type": "mesh3d"
           }
          ],
          "parcoords": [
           {
            "line": {
             "colorbar": {
              "outlinewidth": 0,
              "ticks": ""
             }
            },
            "type": "parcoords"
           }
          ],
          "pie": [
           {
            "automargin": true,
            "type": "pie"
           }
          ],
          "scatter": [
           {
            "fillpattern": {
             "fillmode": "overlay",
             "size": 10,
             "solidity": 0.2
            },
            "type": "scatter"
           }
          ],
          "scatter3d": [
           {
            "line": {
             "colorbar": {
              "outlinewidth": 0,
              "ticks": ""
             }
            },
            "marker": {
             "colorbar": {
              "outlinewidth": 0,
              "ticks": ""
             }
            },
            "type": "scatter3d"
           }
          ],
          "scattercarpet": [
           {
            "marker": {
             "colorbar": {
              "outlinewidth": 0,
              "ticks": ""
             }
            },
            "type": "scattercarpet"
           }
          ],
          "scattergeo": [
           {
            "marker": {
             "colorbar": {
              "outlinewidth": 0,
              "ticks": ""
             }
            },
            "type": "scattergeo"
           }
          ],
          "scattergl": [
           {
            "marker": {
             "colorbar": {
              "outlinewidth": 0,
              "ticks": ""
             }
            },
            "type": "scattergl"
           }
          ],
          "scattermapbox": [
           {
            "marker": {
             "colorbar": {
              "outlinewidth": 0,
              "ticks": ""
             }
            },
            "type": "scattermapbox"
           }
          ],
          "scatterpolar": [
           {
            "marker": {
             "colorbar": {
              "outlinewidth": 0,
              "ticks": ""
             }
            },
            "type": "scatterpolar"
           }
          ],
          "scatterpolargl": [
           {
            "marker": {
             "colorbar": {
              "outlinewidth": 0,
              "ticks": ""
             }
            },
            "type": "scatterpolargl"
           }
          ],
          "scatterternary": [
           {
            "marker": {
             "colorbar": {
              "outlinewidth": 0,
              "ticks": ""
             }
            },
            "type": "scatterternary"
           }
          ],
          "surface": [
           {
            "colorbar": {
             "outlinewidth": 0,
             "ticks": ""
            },
            "colorscale": [
             [
              0,
              "#0d0887"
             ],
             [
              0.1111111111111111,
              "#46039f"
             ],
             [
              0.2222222222222222,
              "#7201a8"
             ],
             [
              0.3333333333333333,
              "#9c179e"
             ],
             [
              0.4444444444444444,
              "#bd3786"
             ],
             [
              0.5555555555555556,
              "#d8576b"
             ],
             [
              0.6666666666666666,
              "#ed7953"
             ],
             [
              0.7777777777777778,
              "#fb9f3a"
             ],
             [
              0.8888888888888888,
              "#fdca26"
             ],
             [
              1,
              "#f0f921"
             ]
            ],
            "type": "surface"
           }
          ],
          "table": [
           {
            "cells": {
             "fill": {
              "color": "#EBF0F8"
             },
             "line": {
              "color": "white"
             }
            },
            "header": {
             "fill": {
              "color": "#C8D4E3"
             },
             "line": {
              "color": "white"
             }
            },
            "type": "table"
           }
          ]
         },
         "layout": {
          "annotationdefaults": {
           "arrowcolor": "#2a3f5f",
           "arrowhead": 0,
           "arrowwidth": 1
          },
          "autotypenumbers": "strict",
          "coloraxis": {
           "colorbar": {
            "outlinewidth": 0,
            "ticks": ""
           }
          },
          "colorscale": {
           "diverging": [
            [
             0,
             "#8e0152"
            ],
            [
             0.1,
             "#c51b7d"
            ],
            [
             0.2,
             "#de77ae"
            ],
            [
             0.3,
             "#f1b6da"
            ],
            [
             0.4,
             "#fde0ef"
            ],
            [
             0.5,
             "#f7f7f7"
            ],
            [
             0.6,
             "#e6f5d0"
            ],
            [
             0.7,
             "#b8e186"
            ],
            [
             0.8,
             "#7fbc41"
            ],
            [
             0.9,
             "#4d9221"
            ],
            [
             1,
             "#276419"
            ]
           ],
           "sequential": [
            [
             0,
             "#0d0887"
            ],
            [
             0.1111111111111111,
             "#46039f"
            ],
            [
             0.2222222222222222,
             "#7201a8"
            ],
            [
             0.3333333333333333,
             "#9c179e"
            ],
            [
             0.4444444444444444,
             "#bd3786"
            ],
            [
             0.5555555555555556,
             "#d8576b"
            ],
            [
             0.6666666666666666,
             "#ed7953"
            ],
            [
             0.7777777777777778,
             "#fb9f3a"
            ],
            [
             0.8888888888888888,
             "#fdca26"
            ],
            [
             1,
             "#f0f921"
            ]
           ],
           "sequentialminus": [
            [
             0,
             "#0d0887"
            ],
            [
             0.1111111111111111,
             "#46039f"
            ],
            [
             0.2222222222222222,
             "#7201a8"
            ],
            [
             0.3333333333333333,
             "#9c179e"
            ],
            [
             0.4444444444444444,
             "#bd3786"
            ],
            [
             0.5555555555555556,
             "#d8576b"
            ],
            [
             0.6666666666666666,
             "#ed7953"
            ],
            [
             0.7777777777777778,
             "#fb9f3a"
            ],
            [
             0.8888888888888888,
             "#fdca26"
            ],
            [
             1,
             "#f0f921"
            ]
           ]
          },
          "colorway": [
           "#636efa",
           "#EF553B",
           "#00cc96",
           "#ab63fa",
           "#FFA15A",
           "#19d3f3",
           "#FF6692",
           "#B6E880",
           "#FF97FF",
           "#FECB52"
          ],
          "font": {
           "color": "#2a3f5f"
          },
          "geo": {
           "bgcolor": "white",
           "lakecolor": "white",
           "landcolor": "#E5ECF6",
           "showlakes": true,
           "showland": true,
           "subunitcolor": "white"
          },
          "hoverlabel": {
           "align": "left"
          },
          "hovermode": "closest",
          "mapbox": {
           "style": "light"
          },
          "paper_bgcolor": "white",
          "plot_bgcolor": "#E5ECF6",
          "polar": {
           "angularaxis": {
            "gridcolor": "white",
            "linecolor": "white",
            "ticks": ""
           },
           "bgcolor": "#E5ECF6",
           "radialaxis": {
            "gridcolor": "white",
            "linecolor": "white",
            "ticks": ""
           }
          },
          "scene": {
           "xaxis": {
            "backgroundcolor": "#E5ECF6",
            "gridcolor": "white",
            "gridwidth": 2,
            "linecolor": "white",
            "showbackground": true,
            "ticks": "",
            "zerolinecolor": "white"
           },
           "yaxis": {
            "backgroundcolor": "#E5ECF6",
            "gridcolor": "white",
            "gridwidth": 2,
            "linecolor": "white",
            "showbackground": true,
            "ticks": "",
            "zerolinecolor": "white"
           },
           "zaxis": {
            "backgroundcolor": "#E5ECF6",
            "gridcolor": "white",
            "gridwidth": 2,
            "linecolor": "white",
            "showbackground": true,
            "ticks": "",
            "zerolinecolor": "white"
           }
          },
          "shapedefaults": {
           "line": {
            "color": "#2a3f5f"
           }
          },
          "ternary": {
           "aaxis": {
            "gridcolor": "white",
            "linecolor": "white",
            "ticks": ""
           },
           "baxis": {
            "gridcolor": "white",
            "linecolor": "white",
            "ticks": ""
           },
           "bgcolor": "#E5ECF6",
           "caxis": {
            "gridcolor": "white",
            "linecolor": "white",
            "ticks": ""
           }
          },
          "title": {
           "x": 0.05
          },
          "xaxis": {
           "automargin": true,
           "gridcolor": "white",
           "linecolor": "white",
           "ticks": "",
           "title": {
            "standoff": 15
           },
           "zerolinecolor": "white",
           "zerolinewidth": 2
          },
          "yaxis": {
           "automargin": true,
           "gridcolor": "white",
           "linecolor": "white",
           "ticks": "",
           "title": {
            "standoff": 15
           },
           "zerolinecolor": "white",
           "zerolinewidth": 2
          }
         }
        },
        "title": {
         "text": "Correlation Matrix"
        },
        "width": 800,
        "xaxis": {
         "anchor": "y",
         "constrain": "domain",
         "domain": [
          0,
          1
         ],
         "scaleanchor": "y",
         "tickmode": "array",
         "ticktext": [
          "Age",
          "Genetic_Risk",
          "Air_Pollution",
          "Alcohol_Use",
          "Smoking",
          "Obesity_Level",
          "Treatment_Cost_USD",
          "Survival_Years",
          "Target_Severity_Score",
          "Gender",
          "Country_Region",
          "Year",
          "Cancer_Type",
          "Cancer_Stage"
         ],
         "tickvals": [
          0,
          1,
          2,
          3,
          4,
          5,
          6,
          7,
          8,
          9,
          10,
          11,
          12,
          13
         ]
        },
        "yaxis": {
         "anchor": "x",
         "autorange": "reversed",
         "constrain": "domain",
         "domain": [
          0,
          1
         ],
         "tickmode": "array",
         "ticktext": [
          "Age",
          "Genetic_Risk",
          "Air_Pollution",
          "Alcohol_Use",
          "Smoking",
          "Obesity_Level",
          "Treatment_Cost_USD",
          "Survival_Years",
          "Target_Severity_Score",
          "Gender",
          "Country_Region",
          "Year",
          "Cancer_Type",
          "Cancer_Stage"
         ],
         "tickvals": [
          0,
          1,
          2,
          3,
          4,
          5,
          6,
          7,
          8,
          9,
          10,
          11,
          12,
          13
         ]
        }
       }
      }
     },
     "metadata": {},
     "output_type": "display_data"
    }
   ],
   "source": [
    "# correlation matrix by plotly\n",
    "cor_matrix = df.corr()\n",
    "cor_matrix_rounded = cor_matrix.round(1)\n",
    "\n",
    "fig = px.imshow(cor_matrix_rounded, \n",
    "                title=\"Correlation Matrix\",\n",
    "                color_continuous_scale='RdBu_r',\n",
    "                text_auto=True)\n",
    "\n",
    "fig.update_traces(\n",
    "    hovertemplate='Variables: %{x}<br>Variables: %{y}<br>Correlation: %{customdata}', \n",
    "    customdata=cor_matrix.values\n",
    ")\n",
    "\n",
    "fig.update_layout(\n",
    "    width=800,\n",
    "    height=800, \n",
    "    xaxis=dict(tickmode='array', tickvals=list(range(len(cor_matrix.columns))), ticktext=cor_matrix.columns),\n",
    "    yaxis=dict(tickmode='array', tickvals=list(range(len(cor_matrix.index))), ticktext=cor_matrix.index),\n",
    ")\n",
    "\n",
    "fig.show()"
   ]
  },
  {
   "cell_type": "code",
   "execution_count": 7,
   "id": "379237c9",
   "metadata": {},
   "outputs": [
    {
     "data": {
      "image/png": "[encoded data removed]",
      "text/plain": [
       "<Figure size 1000x800 with 2 Axes>"
      ]
     },
     "metadata": {},
     "output_type": "display_data"
    }
   ],
   "source": [
    "# correlation matrix by seaborn\n",
    "plt.figure(figsize=(10, 8))\n",
    "sns.heatmap(cor_matrix, annot=True, cmap='coolwarm', linewidths=0.5, fmt='.1f')\n",
    "plt.title('Correlation Matrix')\n",
    "plt.show()\n"
   ]
  }
 ],
 "metadata": {
  "kernelspec": {
   "display_name": "Python 3",
   "language": "python",
   "name": "python3"
  },
  "language_info": {
   "codemirror_mode": {
    "name": "ipython",
    "version": 3
   },
   "file_extension": ".py",
   "mimetype": "text/x-python",
   "name": "python",
   "nbconvert_exporter": "python",
   "pygments_lexer": "ipython3",
   "version": "3.12.8"
  }
 },
 "nbformat": 4,
 "nbformat_minor": 5
}
